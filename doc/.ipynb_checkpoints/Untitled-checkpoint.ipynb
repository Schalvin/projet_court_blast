{
 "cells": [
  {
   "cell_type": "markdown",
   "id": "b180f9ed-0690-40b8-bd60-f7a4c1513d8f",
   "metadata": {},
   "source": [
    "# **Implémentation de BLAST (Basic local alignment search tool) en python**"
   ]
  },
  {
   "cell_type": "markdown",
   "id": "c5bcf577-134c-464a-9e4b-3d0e8616fa22",
   "metadata": {},
   "source": [
    "## Introduction\n",
    "\n",
    "- Intérêt pour la recherche de séquences homologues dans des bases de données de tailles grandissantes.\n",
    "- Utilisation de l'alignement local qui est plus couteux en temps de calcul que l'alignement global pour la recherche de régions conservées. \n",
    "- Recherche préliminaire de mots fortement conservés permet de réduire le nombre de séquences qui seront effectivement explorées.\n",
    "- BLAST II et implémentation de la prise en compte des gaps, permise par la réduction de nombre de séquences alignées en utilisant un double hit.\n",
    "- Le projet présent : réproduire une version python de l'algorithme de BLAST II.\n",
    "- 3 grandes étapes de l'algorithme :\n",
    "  * Décomposition de la séquence recherchée en mots\n",
    "  * Recherche de ces mots dans la base de données (définition de \"hit\")\n",
    "  * Jointure des double hits retrouvés, puis expansion des alignements des deux côtés de l'alignement obtenu, jusqu'à la diminution du score d'alignement au delà d'un certain seuil. \n",
    "  "
   ]
  },
  {
   "cell_type": "code",
   "execution_count": null,
   "id": "621bbcd8-0aac-4c28-8c8a-5d096c00de1e",
   "metadata": {},
   "outputs": [],
   "source": [
    "## Matériel et méthodes"
   ]
  }
 ],
 "metadata": {
  "kernelspec": {
   "display_name": "Python 3 (ipykernel)",
   "language": "python",
   "name": "python3"
  },
  "language_info": {
   "codemirror_mode": {
    "name": "ipython",
    "version": 3
   },
   "file_extension": ".py",
   "mimetype": "text/x-python",
   "name": "python",
   "nbconvert_exporter": "python",
   "pygments_lexer": "ipython3",
   "version": "3.12.4"
  }
 },
 "nbformat": 4,
 "nbformat_minor": 5
}
